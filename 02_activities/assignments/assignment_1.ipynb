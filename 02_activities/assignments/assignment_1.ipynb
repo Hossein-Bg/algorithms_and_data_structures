{
 "cells": [
  {
   "cell_type": "markdown",
   "metadata": {},
   "source": [
    "# Coding Problems\n",
    "\n",
    "## Objective\n",
    "\n",
    "This assignment aims to demonstrate how to study a data structures or algorithms question in depth to prepare for an industry coding interview. Leetcode is a popular coding practice site that many use to practice for technical interviews. Like behavioral interviews, it's important to practice and keep your skills sharp.\n",
    "\n",
    "## Group Size\n",
    "\n",
    "Please complete this individually.\n",
    "\n",
    "## Part 1:\n",
    "\n",
    "_*You will be assigned one of three problems based of your first name. Execute the code below, and that will tell you your assigned problem. Include the output as part of your submission (do not clear the output). The problems are based-off problems from Leetcode.*_\n"
   ]
  },
  {
   "cell_type": "code",
   "execution_count": 1,
   "metadata": {},
   "outputs": [
    {
     "name": "stdout",
     "output_type": "stream",
     "text": [
      "3\n"
     ]
    }
   ],
   "source": [
    "print((hash('Hossein') % 3) + 1)"
   ]
  },
  {
   "cell_type": "markdown",
   "metadata": {},
   "source": [
    "<details>\n",
    "  <summary>Question 1</summary>\n",
    "\n",
    "  # Question One: Check Duplicates in Tree\n",
    "\n",
    "  Given the `root` of a binary tree, check whether it is contains a duplicate value. If a duplicate exists, return the duplicate value. If there are multiple duplicates, return the one with the closest distance to the root. If no duplicate exists, return -1.\n",
    "\n",
    "  ## Examples\n",
    "\n",
    "  ### Example 1\n",
    "\n",
    "  ![](./images/q1_ex1.png)\n",
    "\n",
    "  Input: `root = [1, 2, 2, 3, 5, 6, 7]` *What traversal method is this?*\n",
    "\n",
    "  Output: 2\n",
    "\n",
    "  ### Example 2\n",
    "\n",
    "  ![](./images/q1_ex2.png)\n",
    "\n",
    "  Input: `root = [1, 10, 2, 3, 10, 12, 12]`\n",
    "\n",
    "  Output: 10\n",
    "\n",
    "  ### Example 3\n",
    "\n",
    "  ![](./images/q1_ex3.png)\n",
    "\n",
    "  Input: `root = [10, 9, 8, 7]`\n",
    "\n",
    "  Output: -1\n",
    "\n",
    "</details>\n",
    "\n",
    "#### Starter Code for Question 1"
   ]
  },
  {
   "cell_type": "code",
   "execution_count": null,
   "metadata": {},
   "outputs": [],
   "source": [
    "# Definition for a binary tree node.\n",
    "# class TreeNode(object):\n",
    "#     def __init__(self, val = 0, left = None, right = None):\n",
    "#         self.val = val\n",
    "#         self.left = left\n",
    "#         self.right = right\n",
    "def is_duplicate(root: TreeNode) -> int:\n",
    "  # TODO"
   ]
  },
  {
   "cell_type": "markdown",
   "metadata": {},
   "source": [
    "<details>\n",
    "  <summary>Question 2</summary>\n",
    "\n",
    "  # Question Two: Path to Leaves\n",
    "\n",
    "  Given the `root` of a binary tree, return all root to leaf paths in any order.\n",
    "\n",
    "  ## Examples\n",
    "\n",
    "  ### Example 1\n",
    "\n",
    "  ![](./images/q1_ex1.png)\n",
    "\n",
    "  Input: `root = [1, 2, 2, 3, 5, 6, 7]` *What traversal method is this?*\n",
    "\n",
    "  Output: [[1, 2, 3], [1, 2, 5], [1, 2, 6], [1, 2, 7]]\n",
    "\n",
    "  ### Example 2\n",
    "\n",
    "  ![](./images/q1_ex3.png)\n",
    "\n",
    "  Input: `root = [10, 9, 7, 8]`\n",
    "\n",
    "  Output: [[10, 7], [10, 9, 8]]\n",
    "\n",
    "</details>\n",
    "\n",
    "#### Starter Code for Question 2"
   ]
  },
  {
   "cell_type": "code",
   "execution_count": null,
   "metadata": {},
   "outputs": [],
   "source": [
    "# Definition for a binary tree node.\n",
    "# class TreeNode(object):\n",
    "#     def __init__(self, val = 0, left = None, right = None):\n",
    "#         self.val = val\n",
    "#         self.left = left\n",
    "#         self.right = right\n",
    "def bt_path(root: TreeNode) -> List[List[int]]:\n",
    "  # TODO"
   ]
  },
  {
   "cell_type": "markdown",
   "metadata": {},
   "source": [
    "<details>\n",
    "  <summary>Question 3</summary>\n",
    "\n",
    "  # Question Three: Missing Number in Range\n",
    " \n",
    "  You are given a list containing `n` integers in the range `[0, n]`. Return a list of numbers that are missing from the range `[0, n]` of the array. If there is no missing number, return -1. Note, all the integers in the list may not be unique.\n",
    "  \n",
    "  ## Examples\n",
    "\n",
    "  ### Example 1\n",
    "\n",
    "  Input: `lst = [0, 2]`\n",
    "\n",
    "  Output: [1]\n",
    "\n",
    "  ### Example 2\n",
    "\n",
    "  Input: `lst = [5, 0, 1]`\n",
    "\n",
    "  Output: [2, 3, 4]\n",
    "\n",
    "  ### Example 3\n",
    "\n",
    "  Input: `lst = [6, 8, 2, 3, 5, 7, 0, 1, 10]`\n",
    "\n",
    "  Output: [4, 9]\n",
    "\n",
    "</details>\n",
    "\n",
    "#### Starter Code for Question 3\n"
   ]
  },
  {
   "cell_type": "code",
   "execution_count": 6,
   "metadata": {},
   "outputs": [],
   "source": [
    "from typing import List\n",
    "def missing_num(nums: List[int]) -> List[int]:\n",
    "    max_num = max(nums) # Get the maximum value to define the range [0, n]\n",
    "    whole_set = set(range(max_num+1)) # Create a set of all numbers from 0 to n\n",
    "    input_set = set(nums) # Create a set from the input list\n",
    "\n",
    "    missing_values = list(whole_set - input_set) # Find missing numbers by set difference\n",
    "\n",
    "    return sorted(missing_values) if missing_values else -1\n"
   ]
  },
  {
   "cell_type": "code",
   "execution_count": 7,
   "metadata": {},
   "outputs": [
    {
     "name": "stdout",
     "output_type": "stream",
     "text": [
      "[1]\n",
      "[2, 3, 4]\n",
      "[4, 9]\n"
     ]
    }
   ],
   "source": [
    "print(missing_num([0, 2]))            # Output: [1]\n",
    "print(missing_num([5, 0, 1]))         # Output: [2, 3, 4]\n",
    "print(missing_num([6, 8, 2, 3, 5, 7, 0, 1, 10]))  # Output: [4, 9]"
   ]
  },
  {
   "cell_type": "markdown",
   "metadata": {},
   "source": [
    "\n",
    "## Part 2:\n",
    "\n",
    "-   Paraphrase the problem in your own words\n"
   ]
  },
  {
   "cell_type": "markdown",
   "metadata": {},
   "source": [
    "# Your answer here\n",
    "You are given a list of integers. Every number in the list falls within the range 0 to n, where n is inclusive. Note that the presence of duplicate numbers within the list is possible. Given this list of integers, work out which numbers are missing from the list. In case all numbers ranging from 0 to n appear in the list, return -1.\n",
    "\n",
    "Examples:\n",
    "\n",
    "If the list with an input of [0, 2], the function should return [1] as it is the only number that is missing in that range.\n",
    "\n",
    "Thus, for an input of [5, 0, 1], the output should be [2, 3, 4] because these numbers are missing from [0, 5].\n",
    "\n",
    "If an array such as [6, 8, 2, 3, 5, 7, 0, 1, 10] is passed in, then it should print out the [4, 9] since those are the missing numbers in the range from 0 to 10."
   ]
  },
  {
   "cell_type": "markdown",
   "metadata": {},
   "source": [
    "- In this .ipynb file, there are examples that illustrate how the code should work (the examples provided above). Create 2 new examples for the question you have been assigned, that demonstrate you understand the problem. For question 1 and 2, you don't need to create the tree demonstration, just the input and output.\n"
   ]
  },
  {
   "cell_type": "code",
   "execution_count": 8,
   "metadata": {},
   "outputs": [
    {
     "name": "stdout",
     "output_type": "stream",
     "text": [
      "[0, 2, 5]\n",
      "-1\n"
     ]
    }
   ],
   "source": [
    "# Your answer here\n",
    "print(missing_num([1, 3, 4, 6]))      # Output: [0, 2, 5]\n",
    "print(missing_num([0, 1, 2, 3, 4, 5]))  # Output: [-1]"
   ]
  },
  {
   "cell_type": "markdown",
   "metadata": {},
   "source": [
    "\n",
    "-   Code the solution to your assigned problem in Python (code chunk). Try to find the best time and space complexity solution!\n"
   ]
  },
  {
   "cell_type": "code",
   "execution_count": null,
   "metadata": {},
   "outputs": [],
   "source": [
    "# Your answer here\n",
    "def missing_num(nums: List[int]) -> List[int]:\n",
    "    max_num = max(nums) # O(n)\n",
    "    whole_set = set(range(max_num+1)) # O(n) \n",
    "    input_set = set(nums) # O(n)\n",
    "\n",
    "    missing_values = list(whole_set - input_set) # O(n)\n",
    "\n",
    "            # O(nlogn)👇                O(1)👇\n",
    "    return sorted(missing_values) if missing_values else -1\n",
    "\n",
    "# resulting in an overall time complexity of O(n).  \n",
    "# In the worst case, if almost every number is missing, this could result in a time complexity of O(n log n).\n",
    "# The solution uses two sets, so the space complexity is O(n)."
   ]
  },
  {
   "cell_type": "markdown",
   "metadata": {},
   "source": [
    "\n",
    "-   Explain why your solution works\n"
   ]
  },
  {
   "cell_type": "markdown",
   "metadata": {},
   "source": [
    "# Your answer here\n",
    "The solution works by applying set operations to efficiently determine the missing numbers from a given list. Let's walk through each part of the code and explain how it works:\n",
    "\n",
    "Find the Maximum Number (max_num):\n",
    "\n",
    "max_num = max(nums)\n",
    "\n",
    "The maximum number in the list is found, which helps define the range of numbers that should be present in the input list. For example, if the maximum number in the list is 5, we know that the numbers 0 through 5 should be present, and any missing numbers will be in that range.\n",
    "\n",
    "Create a Set of All Numbers (whole_set):\n",
    "\n",
    "whole_set = set(range(max_num + 1))\n",
    "\n",
    "The range(max_num + 1) creates a sequence of numbers from 0 to max_num (inclusive), and then it is converted into a set. This set represents \n",
    "all the possible numbers that should be present in the input list, based on the maximum number.\n",
    "\n",
    "Create a Set from the Input List (input_set):\n",
    "\n",
    "input_set = set(nums)\n",
    "\n",
    "The input list nums is converted into a set, which removes duplicates and makes it easier to perform set operations. The set input_set represents the numbers that are actually present in the input list.\n",
    "\n",
    "Find the Missing Numbers (missing_values):\n",
    "\n",
    "missing_values = list(whole_set - input_set)\n",
    "\n",
    "The set difference (whole_set - input_set) computes all the numbers that are in whole_set but not in input_set, which are the missing numbers. The result is converted into a list and sorted for output.\n",
    "\n",
    "Return the Result:\n",
    "\n",
    "return sorted(missing_values) if missing_values else -1\n",
    "\n",
    "If there are any missing numbers, they are returned as a sorted list. If no numbers are missing (i.e., missing_values is empty), the function returns -1 to indicate that no numbers are missing."
   ]
  },
  {
   "cell_type": "markdown",
   "metadata": {},
   "source": [
    "\n",
    "-   Explain the problem’s time and space complexity\n"
   ]
  },
  {
   "cell_type": "markdown",
   "metadata": {},
   "source": [
    "# Your answer here\n",
    "\n",
    "The max(nums) function iterates through the list to find the largest number, which takes O(n) time, where n is the number of elements in the input list.\n",
    "\n",
    "\n",
    "Creating the range range(max_num + 1) takes O(max_num) time, as it generates numbers from 0 to max_num. This is effectively O(n) since max_num is typically proportional to the length of the list (in the worst case where the list contains all values from 0 to max_num).\n",
    "\n",
    "Converting this range to a set also takes O(n) time, as it iterates through the range of numbers.\n",
    "\n",
    "Converting the input list nums to a set involves iterating through the list and inserting elements into the set, which takes O(n) time.\n",
    "\n",
    "The set difference operation computes the missing values. The time complexity for this operation is O(n), as it involves checking each element of whole_set (which contains up to n elements) against input_set.\n",
    "\n",
    "\n",
    "Sorting the missing values takes O(k log k), where k is the number of missing values. In the worst case, k is proportional to n, but in practice, k is often smaller than n.\n",
    "\n",
    "The overall time complexity is dominated by the set operations and sorting step:\n",
    "\n",
    "O(n + k log k), where:\n",
    "n is the length of the input list (nums).\n",
    "\n",
    "k is the number of missing values.\n",
    "\n",
    "Since k ≤ n, in the worst case, the time complexity becomes O(n log n).\n",
    "\n",
    "Space Complexity:\n",
    "\n",
    "whole_set contains all integers from 0 to max_num, so it requires O(n) space, where n is the number of elements in the list.\n",
    "\n",
    "The input_set is a set created from the input list nums, so it requires O(n) space, as each element of the list is stored in the set.\n",
    "\n",
    "The missing_values list stores the missing numbers, which in the worst case could be as large as the size of the input list. Therefore, it requires O(n) space."
   ]
  },
  {
   "cell_type": "markdown",
   "metadata": {},
   "source": [
    "\n",
    "-   Explain the thinking to an alternative solution (no coding required, but a classmate reading this should be able to code it up based off your text)\n"
   ]
  },
  {
   "cell_type": "markdown",
   "metadata": {},
   "source": [
    "# Your answer here\n",
    "Identify the Expected Range:\n",
    "\n",
    "The first thing we need to do is determine the full range of numbers that should exist. This can be done by finding the maximum value in the list (max_num). This gives us the highest number we should be considering.\n",
    "\n",
    "For example, if the list contains numbers from 0 to 5, the range of numbers we expect is [0, 1, 2, 3, 4, 5].\n",
    "\n",
    "Track the Presence of Numbers:\n",
    "\n",
    "Instead of using a set to track which numbers are present, we can use a boolean list or an array (or similar structure) to keep track of which numbers in the range [0, max_num] are present in the input list. We create a list of size max_num + 1 where each index represents a number. If that number is present in the input list, we mark its corresponding index as True; otherwise, we leave it as False.\n",
    "\n",
    "For example, if the input list is [0, 2], the boolean list would look like this: [True, False, True] (indicating that 0 and 2 are present, but 1 is missing).\n",
    "\n",
    "Identify Missing Numbers:\n",
    "\n",
    "Once we have the boolean list set up, we can iterate through it and check for any False values. Each index that holds a False corresponds to a number that is missing from the input list. We collect these indices as the missing numbers.\n",
    "\n",
    "Handle Special Cases:\n",
    "\n",
    "If no numbers are missing (i.e., if all values from 0 to max_num are present), we return -1 as a signal that there are no missing numbers.\n",
    "\n",
    "\n",
    "Time Complexity:\n",
    "\n",
    "Finding the maximum value in the list takes O(n) time, where n is the number of elements in the list.\n",
    "\n",
    "Constructing the boolean list and marking present numbers also takes O(n) time.\n",
    "\n",
    "Iterating through the boolean list to find the missing numbers takes O(max_num) time, which in the worst case is O(n).\n",
    "\n",
    "So, the overall time complexity is O(n), as the list length and the range size (max_num) are closely related.\n",
    "\n",
    "Space Complexity:\n",
    "\n",
    "We use an extra array (or boolean list) of size max_num + 1 to track the presence of numbers, so the space complexity is O(n).\n",
    "\n",
    "Why This Approach Works:\n",
    "This method avoids using sets and instead relies on direct indexing to track the presence of numbers. It ensures that we can easily find missing numbers in a linear pass, and it does not require sorting or expensive set operations."
   ]
  },
  {
   "cell_type": "markdown",
   "metadata": {},
   "source": [
    "## Evaluation Criteria\n",
    "\n",
    "-   Problem is accurately stated\n",
    "\n",
    "-   Two examples are correct and easily understandable\n",
    "\n",
    "-   Correctness, time, and space complexity of the coding solution\n",
    "\n",
    "-   Clarity in explaining why the solution works, its time and space complexity\n",
    "\n",
    "-   Clarity in the proposal to the alternative solution"
   ]
  },
  {
   "cell_type": "markdown",
   "metadata": {},
   "source": [
    "## Submission Information\n",
    "\n",
    "🚨 **Please review our [Assignment Submission Guide](https://github.com/UofT-DSI/onboarding/blob/main/onboarding_documents/submissions.md)** 🚨 for detailed instructions on how to format, branch, and submit your work. Following these guidelines is crucial for your submissions to be evaluated correctly.\n",
    "\n",
    "### Submission Parameters:\n",
    "* Submission Due Date: `HH:MM AM/PM - DD/MM/YYYY`\n",
    "* The branch name for your repo should be: `assignment-1`\n",
    "* What to submit for this assignment:\n",
    "    * This Jupyter Notebook (assignment_1.ipynb) should be populated and should be the only change in your pull request.\n",
    "* What the pull request link should look like for this assignment: `https://github.com/<your_github_username>/algorithms_and_data_structures/pull/<pr_id>`\n",
    "    * Open a private window in your browser. Copy and paste the link to your pull request into the address bar. Make sure you can see your pull request properly. This helps the technical facilitator and learning support staff review your submission easily.\n",
    "\n",
    "Checklist:\n",
    "- [ ] Create a branch called `assignment-1`.\n",
    "- [ ] Ensure that the repository is public.\n",
    "- [ ] Review [the PR description guidelines](https://github.com/UofT-DSI/onboarding/blob/main/onboarding_documents/submissions.md#guidelines-for-pull-request-descriptions) and adhere to them.\n",
    "- [ ] Verify that the link is accessible in a private browser window.\n",
    "\n",
    "If you encounter any difficulties or have questions, please don't hesitate to reach out to our team via our Slack at `#cohort-3-help`. Our Technical Facilitators and Learning Support staff are here to help you navigate any challenges."
   ]
  }
 ],
 "metadata": {
  "kernelspec": {
   "display_name": "dsi_participant",
   "language": "python",
   "name": "python3"
  },
  "language_info": {
   "codemirror_mode": {
    "name": "ipython",
    "version": 3
   },
   "file_extension": ".py",
   "mimetype": "text/x-python",
   "name": "python",
   "nbconvert_exporter": "python",
   "pygments_lexer": "ipython3",
   "version": "3.9.15"
  }
 },
 "nbformat": 4,
 "nbformat_minor": 2
}
