{
 "cells": [
  {
   "cell_type": "markdown",
   "metadata": {},
   "source": [
    "# Coding Problems\n",
    "\n",
    "## Objective\n",
    "\n",
    "This assignment aims to demonstrate how to study a data structures or algorithms question in depth to prepare for an industry coding interview. Leetcode is a popular coding practice site that many use to practice for technical interviews. Like behavioral interviews, it's important to practice and keep your skills sharp.\n",
    "\n",
    "## Group Size\n",
    "\n",
    "Please complete this individually.\n",
    "\n",
    "## Part 1:\n",
    "\n",
    "_*You will be assigned one of three problems based of your first name. Execute the code below, and that will tell you your assigned problem. Include the output as part of your submission (do not clear the output). The problems are based-off problems from Leetcode.*_\n"
   ]
  },
  {
   "cell_type": "code",
   "execution_count": 1,
   "metadata": {},
   "outputs": [
    {
     "name": "stdout",
     "output_type": "stream",
     "text": [
      "3\n"
     ]
    }
   ],
   "source": [
    "print((hash('Hossein') % 3) + 1)"
   ]
  },
  {
   "cell_type": "markdown",
   "metadata": {},
   "source": [
    "<details>\n",
    "  <summary>Question 1</summary>\n",
    "\n",
    "  # Question One: Check Duplicates in Tree\n",
    "\n",
    "  Given the `root` of a binary tree, check whether it is contains a duplicate value. If a duplicate exists, return the duplicate value. If there are multiple duplicates, return the one with the closest distance to the root. If no duplicate exists, return -1.\n",
    "\n",
    "  ## Examples\n",
    "\n",
    "  ### Example 1\n",
    "\n",
    "  ![](./images/q1_ex1.png)\n",
    "\n",
    "  Input: `root = [1, 2, 2, 3, 5, 6, 7]` *What traversal method is this?*\n",
    "\n",
    "  Output: 2\n",
    "\n",
    "  ### Example 2\n",
    "\n",
    "  ![](./images/q1_ex2.png)\n",
    "\n",
    "  Input: `root = [1, 10, 2, 3, 10, 12, 12]`\n",
    "\n",
    "  Output: 10\n",
    "\n",
    "  ### Example 3\n",
    "\n",
    "  ![](./images/q1_ex3.png)\n",
    "\n",
    "  Input: `root = [10, 9, 8, 7]`\n",
    "\n",
    "  Output: -1\n",
    "\n",
    "</details>\n",
    "\n",
    "#### Starter Code for Question 1"
   ]
  },
  {
   "cell_type": "code",
   "execution_count": null,
   "metadata": {},
   "outputs": [],
   "source": [
    "# Definition for a binary tree node.\n",
    "# class TreeNode(object):\n",
    "#     def __init__(self, val = 0, left = None, right = None):\n",
    "#         self.val = val\n",
    "#         self.left = left\n",
    "#         self.right = right\n",
    "def is_duplicate(root: TreeNode) -> int:\n",
    "  # TODO"
   ]
  },
  {
   "cell_type": "markdown",
   "metadata": {},
   "source": [
    "<details>\n",
    "  <summary>Question 2</summary>\n",
    "\n",
    "  # Question Two: Path to Leaves\n",
    "\n",
    "  Given the `root` of a binary tree, return all root to leaf paths in any order.\n",
    "\n",
    "  ## Examples\n",
    "\n",
    "  ### Example 1\n",
    "\n",
    "  ![](./images/q1_ex1.png)\n",
    "\n",
    "  Input: `root = [1, 2, 2, 3, 5, 6, 7]` *What traversal method is this?*\n",
    "\n",
    "  Output: [[1, 2, 3], [1, 2, 5], [1, 2, 6], [1, 2, 7]]\n",
    "\n",
    "  ### Example 2\n",
    "\n",
    "  ![](./images/q1_ex3.png)\n",
    "\n",
    "  Input: `root = [10, 9, 7, 8]`\n",
    "\n",
    "  Output: [[10, 7], [10, 9, 8]]\n",
    "\n",
    "</details>\n",
    "\n",
    "#### Starter Code for Question 2"
   ]
  },
  {
   "cell_type": "code",
   "execution_count": null,
   "metadata": {},
   "outputs": [],
   "source": [
    "# Definition for a binary tree node.\n",
    "# class TreeNode(object):\n",
    "#     def __init__(self, val = 0, left = None, right = None):\n",
    "#         self.val = val\n",
    "#         self.left = left\n",
    "#         self.right = right\n",
    "def bt_path(root: TreeNode) -> List[List[int]]:\n",
    "  # TODO"
   ]
  },
  {
   "cell_type": "markdown",
   "metadata": {},
   "source": [
    "<details>\n",
    "  <summary>Question 3</summary>\n",
    "\n",
    "  # Question Three: Missing Number in Range\n",
    " \n",
    "  You are given a list containing `n` integers in the range `[0, n]`. Return a list of numbers that are missing from the range `[0, n]` of the array. If there is no missing number, return -1. Note, all the integers in the list may not be unique.\n",
    "  \n",
    "  ## Examples\n",
    "\n",
    "  ### Example 1\n",
    "\n",
    "  Input: `lst = [0, 2]`\n",
    "\n",
    "  Output: [1]\n",
    "\n",
    "  ### Example 2\n",
    "\n",
    "  Input: `lst = [5, 0, 1]`\n",
    "\n",
    "  Output: [2, 3, 4]\n",
    "\n",
    "  ### Example 3\n",
    "\n",
    "  Input: `lst = [6, 8, 2, 3, 5, 7, 0, 1, 10]`\n",
    "\n",
    "  Output: [4, 9]\n",
    "\n",
    "</details>\n",
    "\n",
    "#### Starter Code for Question 3\n"
   ]
  },
  {
   "cell_type": "code",
   "execution_count": 6,
   "metadata": {},
   "outputs": [],
   "source": [
    "from typing import List\n",
    "def missing_num(nums: List[int]) -> List[int]:\n",
    "    max_num = max(nums) # Get the maximum value to define the range [0, n]\n",
    "    whole_set = set(range(max_num+1)) # Create a set of all numbers from 0 to n\n",
    "    input_set = set(nums) # Create a set from the input list\n",
    "\n",
    "    missing_values = list(whole_set - input_set) # Find missing numbers by set difference\n",
    "\n",
    "    return sorted(missing_values) if missing_values else -1\n"
   ]
  },
  {
   "cell_type": "code",
   "execution_count": 7,
   "metadata": {},
   "outputs": [
    {
     "name": "stdout",
     "output_type": "stream",
     "text": [
      "[1]\n",
      "[2, 3, 4]\n",
      "[4, 9]\n"
     ]
    }
   ],
   "source": [
    "print(missing_num([0, 2]))            # Output: [1]\n",
    "print(missing_num([5, 0, 1]))         # Output: [2, 3, 4]\n",
    "print(missing_num([6, 8, 2, 3, 5, 7, 0, 1, 10]))  # Output: [4, 9]"
   ]
  },
  {
   "cell_type": "markdown",
   "metadata": {},
   "source": [
    "\n",
    "## Part 2:\n",
    "\n",
    "-   Paraphrase the problem in your own words\n"
   ]
  },
  {
   "cell_type": "markdown",
   "metadata": {},
   "source": [
    "# Your answer here\n",
    "You are given a list of integers. Every number in the list falls within the range 0 to n, where n is inclusive. Note that the presence of duplicate numbers within the list is possible. Given this list of integers, work out which numbers are missing from the list. In case all numbers ranging from 0 to n appear in the list, return -1.\n",
    "\n",
    "Examples:\n",
    "\n",
    "If the list with an input of [0, 2], the function should return [1] as it is the only number that is missing in that range.\n",
    "\n",
    "Thus, for an input of [5, 0, 1], the output should be [2, 3, 4] because these numbers are missing from [0, 5].\n",
    "\n",
    "If an array such as [6, 8, 2, 3, 5, 7, 0, 1, 10] is passed in, then it should print out the [4, 9] since those are the missing numbers in the range from 0 to 10."
   ]
  },
  {
   "cell_type": "markdown",
   "metadata": {},
   "source": [
    "- In this .ipynb file, there are examples that illustrate how the code should work (the examples provided above). Create 2 new examples for the question you have been assigned, that demonstrate you understand the problem. For question 1 and 2, you don't need to create the tree demonstration, just the input and output.\n"
   ]
  },
  {
   "cell_type": "code",
   "execution_count": 8,
   "metadata": {},
   "outputs": [
    {
     "name": "stdout",
     "output_type": "stream",
     "text": [
      "[0, 2, 5]\n",
      "-1\n"
     ]
    }
   ],
   "source": [
    "# Your answer here\n",
    "print(missing_num([1, 3, 4, 6]))      # Output: [0, 2, 5]\n",
    "print(missing_num([0, 1, 2, 3, 4, 5]))  # Output: [-1]"
   ]
  },
  {
   "cell_type": "markdown",
   "metadata": {},
   "source": [
    "\n",
    "-   Code the solution to your assigned problem in Python (code chunk). Try to find the best time and space complexity solution!\n"
   ]
  },
  {
   "cell_type": "code",
   "execution_count": null,
   "metadata": {},
   "outputs": [],
   "source": [
    "# Your answer here\n",
    "def missing_num(nums: List[int]) -> List[int]:\n",
    "    max_num = max(nums) # O(n)\n",
    "    whole_set = set(range(max_num+1)) # O(n) \n",
    "    input_set = set(nums) # O(n)\n",
    "\n",
    "    missing_values = list(whole_set - input_set) # O(n)\n",
    "\n",
    "            # O(nlogn)👇                O(1)👇\n",
    "    return sorted(missing_values) if missing_values else -1\n",
    "\n",
    "# resulting in an overall time complexity of O(n).  \n",
    "# In the worst case, if almost every number is missing, this could result in a time complexity of O(n log n).\n",
    "# The solution uses two sets, so the space complexity is O(n)."
   ]
  },
  {
   "cell_type": "markdown",
   "metadata": {},
   "source": [
    "\n",
    "-   Explain why your solution works\n"
   ]
  },
  {
   "cell_type": "markdown",
   "metadata": {},
   "source": [
    "# Your answer here\n",
    "It correctly identifies the missing numbers in the algorithm because each number's presence is marked in the boolean array; further, by doing so, it identifies the missing numbers by their indices through checks for False values.\n",
    "The solution immediately ensures that all numbers between 0 and n are considered, as would be expected from the range of numbers given. The boolean array works out well in maintaining a track record of the numbers that come through in the input list.\n",
    "Time Complexity: O(n)\n",
    "\n",
    "The first loop iterates over each number in the input list; for each number, we mark its corresponding index appropriately in the seen array. Therefore, it takes O(n) time, where n is the length of the input list. Missing Numbers: The second loop runs to identify which indices in the seen array remain False. It also takes O(n) time. Therefore, the total time complexity is O(n).\n",
    "\n",
    "Extra space used is only the seen array, whose size is n + 1, to accommodate all numbers from 0 to n. Hence, the time complexity is O(n).\n",
    "\n",
    "missing_num([0, 2])\n",
    "\n",
    "Input: [0, 2]\n",
    "\n",
    "Boolean Array (seen) Creation:\n",
    "\n",
    "Create an array seen of size 3 (since the maximum number is 2, and the range is [0, 2]):\n",
    "\n",
    "seen = [False, False, False]"
   ]
  },
  {
   "cell_type": "markdown",
   "metadata": {},
   "source": [
    "\n",
    "-   Explain the problem’s time and space complexity\n"
   ]
  },
  {
   "cell_type": "markdown",
   "metadata": {},
   "source": [
    "# Your answer here\n",
    "We can break down the time complexity of the solution as follows:\n",
    "\n",
    "Creation of the seen array: We declare an array seen of size n + 1 where n is the length of the input list nums. Creation of this array requires O(n) time because we have to allocate memory for n + 1 elements.\n",
    "\n",
    "Number marking:\n",
    "We iterate over each number present in the input list nums and mark the respective index as True in the seen array.\n",
    "\n",
    "This encompasses n elements of the list. So, it will take O(n) time.\n",
    "\n",
    "Missing numbers: After marking the numbers, we go through the seen array to collect those indices that are still False. As the size of the seen array is n + 1, this step also takes O(n) time.\n",
    "\n",
    "Initializing the seen array: O(n)\n",
    "\n",
    "Marking the numbers present in the input list: O(n)\n",
    "\n",
    "Finding the missing numbers: O(n)\n",
    "\n",
    "Thus, the overall time complexity of the solution is: O(n)+O(n)+O(n)=O(n)\n",
    "\n",
    "Space Complexity:\n",
    "\n",
    "We create a boolean array seen of size n + 1 to track the presence of numbers. The space required for this array is proportional to n, so the space complexity for the seen array is O(n).\n",
    "\n",
    "\n",
    "We also create a list missing_values to store the missing numbers. In the worst case, if all numbers from 0 to n are missing, this array will have n + 1 elements, resulting in space usage of O(n).\n",
    "\n",
    "Thus, the overall space complexity is dominated by the seen array and the missing_values array, both of which have a size of O(n). Therefore, the space complexity is:\n",
    "\n",
    "O(n)"
   ]
  },
  {
   "cell_type": "markdown",
   "metadata": {},
   "source": [
    "\n",
    "-   Explain the thinking to an alternative solution (no coding required, but a classmate reading this should be able to code it up based off your text)\n"
   ]
  },
  {
   "cell_type": "markdown",
   "metadata": {},
   "source": [
    "# Your answer here\n",
    "Understanding the Problem:\n",
    "\n",
    "We are given a list of numbers, but not all numbers in the range [0, n] may be present.\n",
    "\n",
    "Our goal is to identify which numbers from this range are missing.\n",
    "\n",
    "In-Place Modifications:\n",
    "\n",
    "Instead of using extra space for a boolean array, we can modify the input list itself to track which numbers have been seen. This will reduce the space complexity.\n",
    "\n",
    "Key idea: We can use the values in the input list to mark the indices corresponding to the numbers that are present.\n",
    "Steps for the Alternative Approach:\n",
    "\n",
    "Step 1: We iterate through the list and for each number x in the list, try to place x in its correct position (i.e., at index x).\n",
    "\n",
    "For example, if the number 3 is present, it should be placed at index 3.\n",
    "\n",
    "If a number is already at the correct position, we leave it there.\n",
    "\n",
    "If a number cannot be placed at its correct index (due to duplicates or out-of-range values), we ignore that number.\n",
    "\n",
    "Step 2: After reordering the list, the positions that still contain values other than the number that should be there are the missing numbers.\n",
    "\n",
    "For example, if at index 2 there is no 2, then 2 is missing.\n",
    "\n",
    "Handling Edge Cases:\n",
    "\n",
    "If the list contains a number larger than n, it should be ignored because it’s outside the valid range.\n",
    "\n",
    "If the list has no missing numbers, then the solution should return -1 or an empty list, depending on the desired output format.\n",
    "\n",
    "Steps Summary:\n",
    "\n",
    "In-place Marking: Iterate through the input list and try to place each number at its corresponding index.\n",
    "\n",
    "Find Missing Numbers: After rearranging, find the indices that do not have the correct numbers (i.e., numbers not at the index they should be).\n",
    "\n",
    "Return the Missing Numbers: Collect and return the missing numbers based on the positions that were never corrected."
   ]
  },
  {
   "cell_type": "markdown",
   "metadata": {},
   "source": [
    "## Evaluation Criteria\n",
    "\n",
    "-   Problem is accurately stated\n",
    "\n",
    "-   Two examples are correct and easily understandable\n",
    "\n",
    "-   Correctness, time, and space complexity of the coding solution\n",
    "\n",
    "-   Clarity in explaining why the solution works, its time and space complexity\n",
    "\n",
    "-   Clarity in the proposal to the alternative solution"
   ]
  },
  {
   "cell_type": "markdown",
   "metadata": {},
   "source": [
    "## Submission Information\n",
    "\n",
    "🚨 **Please review our [Assignment Submission Guide](https://github.com/UofT-DSI/onboarding/blob/main/onboarding_documents/submissions.md)** 🚨 for detailed instructions on how to format, branch, and submit your work. Following these guidelines is crucial for your submissions to be evaluated correctly.\n",
    "\n",
    "### Submission Parameters:\n",
    "* Submission Due Date: `HH:MM AM/PM - DD/MM/YYYY`\n",
    "* The branch name for your repo should be: `assignment-1`\n",
    "* What to submit for this assignment:\n",
    "    * This Jupyter Notebook (assignment_1.ipynb) should be populated and should be the only change in your pull request.\n",
    "* What the pull request link should look like for this assignment: `https://github.com/<your_github_username>/algorithms_and_data_structures/pull/<pr_id>`\n",
    "    * Open a private window in your browser. Copy and paste the link to your pull request into the address bar. Make sure you can see your pull request properly. This helps the technical facilitator and learning support staff review your submission easily.\n",
    "\n",
    "Checklist:\n",
    "- [ ] Create a branch called `assignment-1`.\n",
    "- [ ] Ensure that the repository is public.\n",
    "- [ ] Review [the PR description guidelines](https://github.com/UofT-DSI/onboarding/blob/main/onboarding_documents/submissions.md#guidelines-for-pull-request-descriptions) and adhere to them.\n",
    "- [ ] Verify that the link is accessible in a private browser window.\n",
    "\n",
    "If you encounter any difficulties or have questions, please don't hesitate to reach out to our team via our Slack at `#cohort-3-help`. Our Technical Facilitators and Learning Support staff are here to help you navigate any challenges."
   ]
  }
 ],
 "metadata": {
  "kernelspec": {
   "display_name": "dsi_participant",
   "language": "python",
   "name": "python3"
  },
  "language_info": {
   "codemirror_mode": {
    "name": "ipython",
    "version": 3
   },
   "file_extension": ".py",
   "mimetype": "text/x-python",
   "name": "python",
   "nbconvert_exporter": "python",
   "pygments_lexer": "ipython3",
   "version": "3.9.15"
  }
 },
 "nbformat": 4,
 "nbformat_minor": 2
}
