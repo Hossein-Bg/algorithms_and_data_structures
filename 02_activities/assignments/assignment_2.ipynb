{
 "cells": [
  {
   "cell_type": "markdown",
   "metadata": {},
   "source": [
    "# Practice Interview\n",
    "\n",
    "## Objective\n",
    "\n",
    "_*The partner assignment aims to provide participants with the opportunity to practice coding in an interview context. You will analyze your partner's Assignment 1. Moreover, code reviews are common practice in a software development team. This assignment should give you a taste of the code review process.*_\n",
    "\n",
    "## Group Size\n",
    "\n",
    "Each group should have 2 people. You will be assigned a partner\n",
    "\n",
    "## Part 1:\n",
    "\n",
    "You and your partner must share each other's Assignment 1 submission."
   ]
  },
  {
   "cell_type": "markdown",
   "metadata": {},
   "source": [
    "\n",
    "## Part 2:\n",
    "\n",
    "Create a Jupyter Notebook, create 6 of the following headings, and complete the following for your partner's assignment 1:\n",
    "\n",
    "-   Paraphrase the problem in your own words.\n"
   ]
  },
  {
   "cell_type": "markdown",
   "metadata": {},
   "source": [
    "# Your answer here\n",
    "The problem at hand requires identifying all possible paths starting from the root node to each leaf node in a given binary tree. A binary tree is a tree where any node can have at most two children, referred to as the left child and the right child.\n",
    "\n",
    "Approach:\n",
    "\n",
    "* Begin with the root node.\n",
    "\n",
    "* Recursion through children.\n",
    "\n",
    "* At every step of recursion, append the value of the node to the current path.\n",
    "\n",
    "* If reach a leaf node-a node that has no children-record the path as one of the root-to-leaf paths.\n",
    "\n",
    "* Return a list of all these paths.\n",
    "\n",
    "Example 1:\n",
    "\n",
    "Input:\n",
    "\n",
    "Tree structure: [1, 2, 2, 3, 5, 6, 7]\n",
    "\n",
    "Output:\n",
    "\n",
    "[[1, 2, 3], [1, 2, 5], [1, 2, 6], [1, 2, 7]]\n",
    "\n",
    "Example 2:\n",
    "\n",
    "Input:\n",
    "\n",
    "Tree structure: [10, 9, 7, 8]\n",
    "\n",
    "Output:\n",
    "\n",
    "[[10, 9, 8], [10, 7]]\n",
    "\n",
    "The traversal method here is a Depth-First Search (DFS)."
   ]
  },
  {
   "cell_type": "markdown",
   "metadata": {},
   "source": [
    "\n",
    "-   Create 1 new example that demonstrates you understand the problem. Trace/walkthrough 1 example that your partner made and explain it.\n"
   ]
  },
  {
   "cell_type": "markdown",
   "metadata": {},
   "source": [
    "# Your answer here\n",
    "Input:\n",
    "\n",
    "Tree structure: [4, 2, 7, 1, 3]\n",
    "\n",
    "This represents the following binary tree:\n",
    "\n",
    "\n",
    "        4\n",
    "      /   \\\n",
    "     2     7\n",
    "    / \\\n",
    "   1   3\n",
    "\n",
    "Output:\n",
    "\n",
    "[[4, 2, 1], [4, 2, 3], [4, 7]]\n",
    "\n",
    "Explanation:\n",
    "\n",
    "* Start at the root node 4.\n",
    "\n",
    "* Move to the left child 2.\n",
    "\n",
    "* Move to 2's left child 1. Since 1 is a leaf, one path is complete: [4, 2, 1].\n",
    "\n",
    "* Backtrack to node 2 and move to its right child 3. Since 3 is a leaf, another path is complete: [4, 2, 3].\n",
    "\n",
    "* Backtrack to the root 4 and move to its right child 7. Since 7 is a leaf, another path is complete: [4, 7].\n",
    "\n",
    "* Combine all the paths: [[4, 2, 1], [4, 2, 3], [4, 7]]\n",
    "\n"
   ]
  },
  {
   "cell_type": "markdown",
   "metadata": {},
   "source": [
    "# Walkthrough of my Partner's Example (Example 1):\n",
    "\n",
    "Input:\n",
    "\n",
    "Tree structure: [1, 2, 2, 3, 5, 6, 7]\n",
    "\n",
    "The tree structure looks like this:\n",
    "\n",
    "        1\n",
    "      /   \\\n",
    "     2     2\n",
    "    / \\   / \\\n",
    "   3   5 6   7\n",
    "\n",
    "Output:\n",
    "\n",
    "[[1, 2, 3], [1, 2, 5], [1, 2, 6], [1, 2, 7]]\n",
    "\n",
    "Step-by-step Explanation:\n",
    "\n",
    "* Start at the root node 1.\n",
    "\n",
    "* Move to the left child 2.\n",
    "\n",
    "* Path so far: [1, 2].\n",
    "\n",
    "* Move to 2's left child 3. Since 3 is a leaf, the first path is complete: [1, 2, 3].\n",
    "\n",
    "* Backtrack to node 2 and move to its right child 5. Since 5 is a leaf, the second path is complete: [1, 2, 5].\n",
    "\n",
    "* Backtrack to the root node 1 and move to its right child 2.\n",
    "\n",
    "* Path so far: [1, 2].\n",
    "\n",
    "* Move to this 2's left child 6. Since 6 is a leaf, the third path is complete: [1, 2, 6].\n",
    "\n",
    "* Backtrack to the second 2 and move to its right child 7. Since 7 is a leaf, the fourth path is complete: [1, 2, 7].\n",
    "\n",
    "* Combine all the paths: [[1, 2, 3], [1, 2, 5], [1, 2, 6], [1, 2, 7]].\n",
    "\n",
    "Both examples illustrate a depth-first traversal, recursively exploring all paths to the leaf nodes before backtracking."
   ]
  },
  {
   "cell_type": "markdown",
   "metadata": {},
   "source": [
    "\n",
    "-   Copy the solution your partner wrote. \n"
   ]
  },
  {
   "cell_type": "code",
   "execution_count": 1,
   "metadata": {},
   "outputs": [
    {
     "data": {
      "text/plain": [
       "[[10, 9, 8], [10, 7]]"
      ]
     },
     "execution_count": 1,
     "metadata": {},
     "output_type": "execute_result"
    }
   ],
   "source": [
    "# Your answer here\n",
    "\n",
    "# Definition for a binary tree node.\n",
    "class TreeNode(object):\n",
    "    def __init__(self, val = 0, left = None, right = None):\n",
    "        self.val = val\n",
    "        self.left = left\n",
    "        self.right = right\n",
    "\n",
    "def is_leaf(node):\n",
    "    return node is not None and node.left is None and node.right is None\n",
    "\n",
    "def bt_path(root: TreeNode, cur_path=None, paths=None):\n",
    "    if cur_path is None:\n",
    "        cur_path = []\n",
    "    if paths is None:\n",
    "        paths = []\n",
    "\n",
    "    if root:\n",
    "        cur_path.append(root.val)\n",
    "\n",
    "        if is_leaf(root):\n",
    "            paths.append(cur_path.copy())\n",
    "        else:\n",
    "            if root.left:\n",
    "                bt_path(root.left, cur_path, paths)\n",
    "            if root.right:\n",
    "                bt_path(root.right, cur_path, paths)\n",
    "\n",
    "        cur_path.pop()\n",
    "\n",
    "    return paths\n",
    "\n",
    "# Example 1\n",
    "root = TreeNode(1)\n",
    "root.left = TreeNode(2)\n",
    "root.right = TreeNode(2)\n",
    "root.left.left = TreeNode(3)\n",
    "root.left.right = TreeNode(5)\n",
    "root.right.left = TreeNode(6)\n",
    "root.right.right = TreeNode(7)\n",
    "bt_path(root)\n",
    "# Output: [[1, 2, 3], [1, 2, 5], [1, 2, 6], [1, 2, 7]]\n",
    "\n",
    "# Example 2\n",
    "root = TreeNode(10)\n",
    "root.left = TreeNode(9)\n",
    "root.right = TreeNode(7)\n",
    "root.left.left = TreeNode(8)\n",
    "bt_path(root)\n",
    "# Output: [[10, 9, 8], [10, 7]]\n"
   ]
  },
  {
   "cell_type": "markdown",
   "metadata": {},
   "source": [
    "\n",
    "-   Explain why their solution works in your own words.\n"
   ]
  },
  {
   "cell_type": "markdown",
   "metadata": {},
   "source": [
    "# Your answer here\n",
    "\n",
    "The solution works because it uses recursion and depth-first traversal to explore all root-to-leaf paths. It builds the current path (cur_path) as it traverses the tree. When a leaf node is reached, it adds the completed path to the results list (paths). After exploring a branch, it backtracks by removing the last node from cur_path, ensuring each path is handled independently. This ensures all root-to-leaf paths are correctly found and stored."
   ]
  },
  {
   "cell_type": "markdown",
   "metadata": {},
   "source": [
    "\n",
    "-   Explain the problem’s time and space complexity in your own words.\n"
   ]
  },
  {
   "cell_type": "markdown",
   "metadata": {},
   "source": [
    "# Your answer here\n",
    "Time Complexity: O(N)\n",
    "\n",
    "The given function will traverse the binary tree and visit each node exactly once.\n",
    "\n",
    "Since the total number of nodes in the tree is N, the time complexity will be directly proportional to the number of nodes.\n",
    "\n",
    "Space Complexity: O(H)\n",
    "\n",
    "The space used by this function is directly related to the height of the tree, which comes from the recursive call stack.\n",
    "\n",
    "In the worst case-e.g., some sort of skewed tree-the height could be N, in which case space would be O(N).\n",
    "\n",
    "In the best case-e.g., a balanced tree-the height would be O(log N).\n",
    "\n",
    "And of course, there's extra space for storing the paths themselves, but we're only storing each node once across all the paths, so that doesn't change the asymptotic complexity."
   ]
  },
  {
   "cell_type": "markdown",
   "metadata": {},
   "source": [
    "\n",
    "-   Critique your partner's solution, including explanation, and if there is anything that should be adjusted.\n"
   ]
  },
  {
   "cell_type": "markdown",
   "metadata": {},
   "source": [
    "# Your answer here\n",
    "Strengths:\n",
    "\n",
    "* Proper use of depth-first traversal and backtracking.\n",
    "\n",
    "* The code is well modularized, where the function is_leaf, which reads quite nicely.\n",
    "\n",
    "* Edge cases for single-node trees work well.\n",
    "\n",
    "Weaknesses & Fixes:\n",
    "\n",
    "* Mutable Default Arguments: Using mutable defaults like cur_path=[] is unsafe. Fix: Better to use None and initialize inside the function.\n",
    "\n",
    "* Redundant Checks: is_leaf does a redundant check that the node is not None. Simplify it to check only children.\n",
    "\n",
    "* Missing Edge Case Explanations: Doesn't tell the behavior for an empty tree. Mention that it returns [].\n",
    "\n",
    "Example Outputs : Specify explicit print() to be clear while testing."
   ]
  },
  {
   "cell_type": "code",
   "execution_count": 2,
   "metadata": {},
   "outputs": [],
   "source": [
    "# Improved Example:\n",
    "def bt_path(root: TreeNode, cur_path=None, paths=None):\n",
    "    if cur_path is None:\n",
    "        cur_path = []\n",
    "    if paths is None:\n",
    "        paths = []\n",
    "    if root:\n",
    "        cur_path.append(root.val)\n",
    "        if root.left is None and root.right is None:  # is_leaf logic simplified\n",
    "            paths.append(cur_path.copy())\n",
    "        else:\n",
    "            bt_path(root.left, cur_path, paths)\n",
    "            bt_path(root.right, cur_path, paths)\n",
    "        cur_path.pop()\n",
    "    return paths"
   ]
  },
  {
   "cell_type": "markdown",
   "metadata": {},
   "source": [
    "\n",
    "## Part 3:\n",
    "\n",
    "Please write a 200 word reflection documenting your process from assignment 1, and your presentation and review experience with your partner at the bottom of the Jupyter Notebook under a new heading \"Reflection.\" Again, export this Notebook as pdf.\n"
   ]
  },
  {
   "cell_type": "markdown",
   "metadata": {},
   "source": [
    "### Reflection"
   ]
  },
  {
   "cell_type": "markdown",
   "metadata": {},
   "source": [
    "# Your answer here\n",
    "The insight and collaboration in finishing the assignment were apt. In solving Assignment 1, I first went over the problem requirements to analyze the task clearly. It followed by considering the problem statement, understanding the given examples, and paraphrasing the task to ensure that it settled in my head. From here, I developed a new example and traced one of my partner's examples to show understanding.\n",
    "\n",
    "My partner's solution to finding all the root-to-leaf paths in a binary tree was pretty robust recursively. I liked the modularity-make sure to create helper functions when necessary-and readability of the solution. When reviewing this, I found some places that could be improved, mainly the mutable default argument and redundant checks, and proposed changes that would make the solution not only more efficient but more reliable too. These discussions furthered my understanding of edge cases, time and space complexity, and debugging techniques.\n",
    "\n",
    "The whole experience of presentation and review was very collaborative and productive. The feedback from my partner on my work was constructive to show me points where I could improve my communication and technical explanation skills. Overall, this assignment really helped me understand how clear problem-solving strategies, attention to detail, and peer collaboration are so important in refining code quality."
   ]
  },
  {
   "cell_type": "markdown",
   "metadata": {},
   "source": [
    "\n",
    "## Evaluation Criteria\n",
    "\n",
    "We are looking for the similar points as Assignment 1\n",
    "\n",
    "-   Problem is accurately stated\n",
    "\n",
    "-   New example is correct and easily understandable\n",
    "\n",
    "-   Correctness, time, and space complexity of the coding solution\n",
    "\n",
    "-   Clarity in explaining why the solution works, its time and space complexity\n",
    "\n",
    "-   Quality of critique of your partner's assignment, if necessary\n"
   ]
  },
  {
   "cell_type": "markdown",
   "metadata": {},
   "source": [
    "## Submission Information\n",
    "\n",
    "🚨 **Please review our [Assignment Submission Guide](https://github.com/UofT-DSI/onboarding/blob/main/onboarding_documents/submissions.md)** 🚨 for detailed instructions on how to format, branch, and submit your work. Following these guidelines is crucial for your submissions to be evaluated correctly.\n",
    "\n",
    "### Submission Parameters:\n",
    "* Submission Due Date: `HH:MM AM/PM - DD/MM/YYYY`\n",
    "* The branch name for your repo should be: `assignment-2`\n",
    "* What to submit for this assignment:\n",
    "    * This Jupyter Notebook (assignment_2.ipynb) should be populated and should be the only change in your pull request.\n",
    "* What the pull request link should look like for this assignment: `https://github.com/<your_github_username>/algorithms_and_data_structures/pull/<pr_id>`\n",
    "    * Open a private window in your browser. Copy and paste the link to your pull request into the address bar. Make sure you can see your pull request properly. This helps the technical facilitator and learning support staff review your submission easily.\n",
    "\n",
    "Checklist:\n",
    "- [ ] Created a branch with the correct naming convention.\n",
    "- [ ] Ensured that the repository is public.\n",
    "- [ ] Reviewed the PR description guidelines and adhered to them.\n",
    "- [ ] Verify that the link is accessible in a private browser window.\n",
    "\n",
    "If you encounter any difficulties or have questions, please don't hesitate to reach out to our team via our Slack at `#cohort-3-help`. Our Technical Facilitators and Learning Support staff are here to help you navigate any challenges.\n"
   ]
  }
 ],
 "metadata": {
  "kernelspec": {
   "display_name": "dsi_participant",
   "language": "python",
   "name": "python3"
  },
  "language_info": {
   "codemirror_mode": {
    "name": "ipython",
    "version": 3
   },
   "file_extension": ".py",
   "mimetype": "text/x-python",
   "name": "python",
   "nbconvert_exporter": "python",
   "pygments_lexer": "ipython3",
   "version": "3.9.15"
  }
 },
 "nbformat": 4,
 "nbformat_minor": 2
}
